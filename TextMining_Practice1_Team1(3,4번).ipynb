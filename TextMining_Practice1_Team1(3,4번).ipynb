{
  "cells": [
    {
      "cell_type": "code",
      "source": [
        "### Course: Text Mining                #####\n",
        "### Subject: 2024-2                    #####\n",
        "### Title: Practice 01                 #####\n",
        "### TEAM: 01                           #####\n",
        "### Member: 22000028 Juha Gwak         #####\n",
        "###         22000283 Yejun Park        #####\n",
        "###         22000383 GiSung Shin       #####\n",
        "############################################"
      ],
      "metadata": {
        "id": "dC5DmOqtL7of"
      },
      "execution_count": null,
      "outputs": []
    },
    {
      "cell_type": "code",
      "execution_count": null,
      "metadata": {
        "id": "qaKbDMyHLxAM"
      },
      "outputs": [],
      "source": [
        "import pandas as pd\n",
        "import numpy as np\n",
        "import os\n",
        "#data_path = \"G:/내 드라이브/24-2/text_mining/assignment1/ASGN1\"\n",
        "data_path = '/Users/yejun_park/Library/CloudStorage/GoogleDrive-wnejdh1818@gmail.com/내 드라이브/24-2/text_mining/assignment1/ASGN1'\n",
        "boston = pd.read_csv(os.path.join(data_path, 'Boston_set.csv'))\n"
      ]
    },
    {
      "cell_type": "markdown",
      "metadata": {
        "id": "XboY1_RvLxAO"
      },
      "source": [
        "Question3\n"
      ]
    },
    {
      "cell_type": "code",
      "execution_count": null,
      "metadata": {
        "id": "cvWK4YCdLxAP",
        "outputId": "5c0a8481-6566-49db-a033-7ef15cadb8fa"
      },
      "outputs": [
        {
          "data": {
            "text/plain": [
              "crim       0\n",
              "zn         0\n",
              "indus      0\n",
              "chas       0\n",
              "nox        0\n",
              "rm         0\n",
              "age        0\n",
              "dis        0\n",
              "rad        0\n",
              "tax        0\n",
              "ptratio    0\n",
              "black      0\n",
              "lstat      0\n",
              "medv       0\n",
              "dtype: int64"
            ]
          },
          "execution_count": 203,
          "metadata": {},
          "output_type": "execute_result"
        }
      ],
      "source": [
        "#3-1\n",
        "#Load “Boston_set.csv”to a variable called boston_set in Google Colab. Are there any\n",
        "#missing values? Write down Python codes that check whether there are missing values or not.\n",
        "boston.isna().sum()\n",
        "#no na value found"
      ]
    },
    {
      "cell_type": "code",
      "execution_count": null,
      "metadata": {
        "id": "SxiCMYUQLxAQ",
        "outputId": "f5013cb7-838e-4c40-c59e-dff626d56bc6"
      },
      "outputs": [
        {
          "data": {
            "text/plain": [
              "Index(['crim', 'zn', 'indus', 'chas', 'nox', 'rm', 'age', 'dis', 'rad', 'tax',\n",
              "       'ptratio', 'black', 'lstat', 'medv'],\n",
              "      dtype='object')"
            ]
          },
          "execution_count": 204,
          "metadata": {},
          "output_type": "execute_result"
        }
      ],
      "source": [
        "boston.columns"
      ]
    },
    {
      "cell_type": "code",
      "execution_count": null,
      "metadata": {
        "id": "rgSUUoWiLxAQ",
        "outputId": "cd6e20d7-c3ce-4cf5-f3e5-4db9eaf4e6b6"
      },
      "outputs": [
        {
          "name": "stdout",
          "output_type": "stream",
          "text": [
            "[-0.18510226 -0.1335077  -3.44258899  7.67440715 -0.02584023]\n",
            "-19.8607409941371\n"
          ]
        }
      ],
      "source": [
        "#3-2\n",
        "from sklearn.linear_model import LinearRegression\n",
        "from sklearn.model_selection import train_test_split\n",
        "import matplotlib.pyplot as plt\n",
        "import seaborn as sns\n",
        "Y = boston['medv']\n",
        "X = boston[['crim', 'indus','nox','rm','age']]\n",
        "\n",
        "stats_model = LinearRegression()\n",
        "stats_model.fit(X,Y)\n",
        "predict = stats_model.predict(X)\n",
        "print(stats_model.coef_)\n",
        "print(stats_model.intercept_)"
      ]
    },
    {
      "cell_type": "code",
      "execution_count": null,
      "metadata": {
        "id": "-Whr0AyuLxAR",
        "outputId": "f96571f9-6ded-426b-a6bb-013c58506390"
      },
      "outputs": [
        {
          "data": {
            "text/html": [
              "<table class=\"simpletable\">\n",
              "<caption>OLS Regression Results</caption>\n",
              "<tr>\n",
              "  <th>Dep. Variable:</th>          <td>medv</td>       <th>  R-squared (uncentered):</th>      <td>   0.934</td> \n",
              "</tr>\n",
              "<tr>\n",
              "  <th>Model:</th>                   <td>OLS</td>       <th>  Adj. R-squared (uncentered):</th> <td>   0.934</td> \n",
              "</tr>\n",
              "<tr>\n",
              "  <th>Method:</th>             <td>Least Squares</td>  <th>  F-statistic:       </th>          <td>   1425.</td> \n",
              "</tr>\n",
              "<tr>\n",
              "  <th>Date:</th>             <td>Thu, 12 Sep 2024</td> <th>  Prob (F-statistic):</th>          <td>1.71e-293</td>\n",
              "</tr>\n",
              "<tr>\n",
              "  <th>Time:</th>                 <td>04:00:08</td>     <th>  Log-Likelihood:    </th>          <td> -1644.2</td> \n",
              "</tr>\n",
              "<tr>\n",
              "  <th>No. Observations:</th>      <td>   506</td>      <th>  AIC:               </th>          <td>   3298.</td> \n",
              "</tr>\n",
              "<tr>\n",
              "  <th>Df Residuals:</th>          <td>   501</td>      <th>  BIC:               </th>          <td>   3320.</td> \n",
              "</tr>\n",
              "<tr>\n",
              "  <th>Df Model:</th>              <td>     5</td>      <th>                     </th>              <td> </td>    \n",
              "</tr>\n",
              "<tr>\n",
              "  <th>Covariance Type:</th>      <td>nonrobust</td>    <th>                     </th>              <td> </td>    \n",
              "</tr>\n",
              "</table>\n",
              "<table class=\"simpletable\">\n",
              "<tr>\n",
              "    <td></td>       <th>coef</th>     <th>std err</th>      <th>t</th>      <th>P>|t|</th>  <th>[0.025</th>    <th>0.975]</th>  \n",
              "</tr>\n",
              "<tr>\n",
              "  <th>crim</th>  <td>   -0.1760</td> <td>    0.036</td> <td>   -4.856</td> <td> 0.000</td> <td>   -0.247</td> <td>   -0.105</td>\n",
              "</tr>\n",
              "<tr>\n",
              "  <th>indus</th> <td>   -0.1332</td> <td>    0.067</td> <td>   -1.989</td> <td> 0.047</td> <td>   -0.265</td> <td>   -0.002</td>\n",
              "</tr>\n",
              "<tr>\n",
              "  <th>nox</th>   <td>  -15.0124</td> <td>    3.838</td> <td>   -3.912</td> <td> 0.000</td> <td>  -22.553</td> <td>   -7.472</td>\n",
              "</tr>\n",
              "<tr>\n",
              "  <th>rm</th>    <td>    5.4574</td> <td>    0.217</td> <td>   25.141</td> <td> 0.000</td> <td>    5.031</td> <td>    5.884</td>\n",
              "</tr>\n",
              "<tr>\n",
              "  <th>age</th>   <td>   -0.0172</td> <td>    0.015</td> <td>   -1.167</td> <td> 0.244</td> <td>   -0.046</td> <td>    0.012</td>\n",
              "</tr>\n",
              "</table>\n",
              "<table class=\"simpletable\">\n",
              "<tr>\n",
              "  <th>Omnibus:</th>       <td>238.067</td> <th>  Durbin-Watson:     </th> <td>   0.658</td> \n",
              "</tr>\n",
              "<tr>\n",
              "  <th>Prob(Omnibus):</th> <td> 0.000</td>  <th>  Jarque-Bera (JB):  </th> <td>1364.133</td> \n",
              "</tr>\n",
              "<tr>\n",
              "  <th>Skew:</th>          <td> 2.015</td>  <th>  Prob(JB):          </th> <td>6.06e-297</td>\n",
              "</tr>\n",
              "<tr>\n",
              "  <th>Kurtosis:</th>      <td> 9.961</td>  <th>  Cond. No.          </th> <td>1.04e+03</td> \n",
              "</tr>\n",
              "</table><br/><br/>Notes:<br/>[1] R² is computed without centering (uncentered) since the model does not contain a constant.<br/>[2] Standard Errors assume that the covariance matrix of the errors is correctly specified.<br/>[3] The condition number is large, 1.04e+03. This might indicate that there are<br/>strong multicollinearity or other numerical problems."
            ],
            "text/latex": [
              "\\begin{center}\n",
              "\\begin{tabular}{lclc}\n",
              "\\toprule\n",
              "\\textbf{Dep. Variable:}    &       medv       & \\textbf{  R-squared (uncentered):}      &     0.934   \\\\\n",
              "\\textbf{Model:}            &       OLS        & \\textbf{  Adj. R-squared (uncentered):} &     0.934   \\\\\n",
              "\\textbf{Method:}           &  Least Squares   & \\textbf{  F-statistic:       }          &     1425.   \\\\\n",
              "\\textbf{Date:}             & Thu, 12 Sep 2024 & \\textbf{  Prob (F-statistic):}          & 1.71e-293   \\\\\n",
              "\\textbf{Time:}             &     04:00:08     & \\textbf{  Log-Likelihood:    }          &   -1644.2   \\\\\n",
              "\\textbf{No. Observations:} &         506      & \\textbf{  AIC:               }          &     3298.   \\\\\n",
              "\\textbf{Df Residuals:}     &         501      & \\textbf{  BIC:               }          &     3320.   \\\\\n",
              "\\textbf{Df Model:}         &           5      & \\textbf{                     }          &             \\\\\n",
              "\\textbf{Covariance Type:}  &    nonrobust     & \\textbf{                     }          &             \\\\\n",
              "\\bottomrule\n",
              "\\end{tabular}\n",
              "\\begin{tabular}{lcccccc}\n",
              "               & \\textbf{coef} & \\textbf{std err} & \\textbf{t} & \\textbf{P$> |$t$|$} & \\textbf{[0.025} & \\textbf{0.975]}  \\\\\n",
              "\\midrule\n",
              "\\textbf{crim}  &      -0.1760  &        0.036     &    -4.856  &         0.000        &       -0.247    &       -0.105     \\\\\n",
              "\\textbf{indus} &      -0.1332  &        0.067     &    -1.989  &         0.047        &       -0.265    &       -0.002     \\\\\n",
              "\\textbf{nox}   &     -15.0124  &        3.838     &    -3.912  &         0.000        &      -22.553    &       -7.472     \\\\\n",
              "\\textbf{rm}    &       5.4574  &        0.217     &    25.141  &         0.000        &        5.031    &        5.884     \\\\\n",
              "\\textbf{age}   &      -0.0172  &        0.015     &    -1.167  &         0.244        &       -0.046    &        0.012     \\\\\n",
              "\\bottomrule\n",
              "\\end{tabular}\n",
              "\\begin{tabular}{lclc}\n",
              "\\textbf{Omnibus:}       & 238.067 & \\textbf{  Durbin-Watson:     } &     0.658  \\\\\n",
              "\\textbf{Prob(Omnibus):} &   0.000 & \\textbf{  Jarque-Bera (JB):  } &  1364.133  \\\\\n",
              "\\textbf{Skew:}          &   2.015 & \\textbf{  Prob(JB):          } & 6.06e-297  \\\\\n",
              "\\textbf{Kurtosis:}      &   9.961 & \\textbf{  Cond. No.          } &  1.04e+03  \\\\\n",
              "\\bottomrule\n",
              "\\end{tabular}\n",
              "%\\caption{OLS Regression Results}\n",
              "\\end{center}\n",
              "\n",
              "Notes: \\newline\n",
              " [1] R² is computed without centering (uncentered) since the model does not contain a constant. \\newline\n",
              " [2] Standard Errors assume that the covariance matrix of the errors is correctly specified. \\newline\n",
              " [3] The condition number is large, 1.04e+03. This might indicate that there are \\newline\n",
              " strong multicollinearity or other numerical problems."
            ],
            "text/plain": [
              "<class 'statsmodels.iolib.summary.Summary'>\n",
              "\"\"\"\n",
              "                                 OLS Regression Results                                \n",
              "=======================================================================================\n",
              "Dep. Variable:                   medv   R-squared (uncentered):                   0.934\n",
              "Model:                            OLS   Adj. R-squared (uncentered):              0.934\n",
              "Method:                 Least Squares   F-statistic:                              1425.\n",
              "Date:                Thu, 12 Sep 2024   Prob (F-statistic):                   1.71e-293\n",
              "Time:                        04:00:08   Log-Likelihood:                         -1644.2\n",
              "No. Observations:                 506   AIC:                                      3298.\n",
              "Df Residuals:                     501   BIC:                                      3320.\n",
              "Df Model:                           5                                                  \n",
              "Covariance Type:            nonrobust                                                  \n",
              "==============================================================================\n",
              "                 coef    std err          t      P>|t|      [0.025      0.975]\n",
              "------------------------------------------------------------------------------\n",
              "crim          -0.1760      0.036     -4.856      0.000      -0.247      -0.105\n",
              "indus         -0.1332      0.067     -1.989      0.047      -0.265      -0.002\n",
              "nox          -15.0124      3.838     -3.912      0.000     -22.553      -7.472\n",
              "rm             5.4574      0.217     25.141      0.000       5.031       5.884\n",
              "age           -0.0172      0.015     -1.167      0.244      -0.046       0.012\n",
              "==============================================================================\n",
              "Omnibus:                      238.067   Durbin-Watson:                   0.658\n",
              "Prob(Omnibus):                  0.000   Jarque-Bera (JB):             1364.133\n",
              "Skew:                           2.015   Prob(JB):                    6.06e-297\n",
              "Kurtosis:                       9.961   Cond. No.                     1.04e+03\n",
              "==============================================================================\n",
              "\n",
              "Notes:\n",
              "[1] R² is computed without centering (uncentered) since the model does not contain a constant.\n",
              "[2] Standard Errors assume that the covariance matrix of the errors is correctly specified.\n",
              "[3] The condition number is large, 1.04e+03. This might indicate that there are\n",
              "strong multicollinearity or other numerical problems.\n",
              "\"\"\""
            ]
          },
          "execution_count": 206,
          "metadata": {},
          "output_type": "execute_result"
        }
      ],
      "source": [
        "from statsmodels.regression.linear_model import OLS\n",
        "\n",
        "X = boston[['crim', 'indus','nox','rm','age']]\n",
        "Y = boston['medv']\n",
        "model = OLS(Y,X)\n",
        "result = model.fit()\n",
        "result.summary()\n",
        "#explain R-squared value\n",
        "#R-squared value is 0.934, which means 93.4% of the variance in the dependent variable can be explained by the independent variables.\n",
        "#In other words, the model is a good fit for the data.\n",
        "\n",
        "#coefficient\n",
        "#since it uses 5 variables, it has 5 coefficients\n",
        "#we can infer that the first coefficient is for 'crim', the second is for 'indus', the third is for 'nox', the fourth is for 'rm', and the fifth is for 'age'\n",
        "# -values of coefficients shows that they have negative correlation with the target variable\n",
        "\n",
        "#p-value\n",
        "#p-value is the probability of observing a test statistic as extreme as the one computed from the sample data, assuming that the null hypothesis is true.\n",
        "#the p-value of 'crim' is 0.000, which is less than 0.05, so we can reject the null hypothesis and infer that 'crim' is statistically significant.\n",
        "#the p-value of 'indus' is 0.047, which is less than 0.05, so we can reject the null hypothesis and infer that 'indus' is statistically significant."
      ]
    },
    {
      "cell_type": "code",
      "execution_count": null,
      "metadata": {
        "id": "DA0eibAgLxAR"
      },
      "outputs": [],
      "source": [
        "#3-3\n",
        "from sklearn.model_selection import train_test_split\n",
        "X = boston[['crim', 'indus','nox','rm','age']]\n",
        "Y = boston['medv']\n",
        "X_train, X_test, Y_train, Y_test = train_test_split(X,Y, test_size = 0.2, random_state = 1009)"
      ]
    },
    {
      "cell_type": "code",
      "execution_count": null,
      "metadata": {
        "id": "9FxNNoElLxAR",
        "outputId": "a6f48617-678b-4f50-9db2-8fd9b60968dd"
      },
      "outputs": [
        {
          "data": {
            "text/html": [
              "<div>\n",
              "<style scoped>\n",
              "    .dataframe tbody tr th:only-of-type {\n",
              "        vertical-align: middle;\n",
              "    }\n",
              "\n",
              "    .dataframe tbody tr th {\n",
              "        vertical-align: top;\n",
              "    }\n",
              "\n",
              "    .dataframe thead th {\n",
              "        text-align: right;\n",
              "    }\n",
              "</style>\n",
              "<table border=\"1\" class=\"dataframe\">\n",
              "  <thead>\n",
              "    <tr style=\"text-align: right;\">\n",
              "      <th></th>\n",
              "      <th>actual</th>\n",
              "      <th>predict</th>\n",
              "    </tr>\n",
              "  </thead>\n",
              "  <tbody>\n",
              "    <tr>\n",
              "      <th>74</th>\n",
              "      <td>24.1</td>\n",
              "      <td>24.610961</td>\n",
              "    </tr>\n",
              "    <tr>\n",
              "      <th>40</th>\n",
              "      <td>34.9</td>\n",
              "      <td>31.746349</td>\n",
              "    </tr>\n",
              "    <tr>\n",
              "      <th>118</th>\n",
              "      <td>20.4</td>\n",
              "      <td>20.126033</td>\n",
              "    </tr>\n",
              "    <tr>\n",
              "      <th>236</th>\n",
              "      <td>25.1</td>\n",
              "      <td>26.461193</td>\n",
              "    </tr>\n",
              "    <tr>\n",
              "      <th>85</th>\n",
              "      <td>26.6</td>\n",
              "      <td>27.475831</td>\n",
              "    </tr>\n",
              "  </tbody>\n",
              "</table>\n",
              "</div>"
            ],
            "text/plain": [
              "     actual    predict\n",
              "74     24.1  24.610961\n",
              "40     34.9  31.746349\n",
              "118    20.4  20.126033\n",
              "236    25.1  26.461193\n",
              "85     26.6  27.475831"
            ]
          },
          "execution_count": 208,
          "metadata": {},
          "output_type": "execute_result"
        }
      ],
      "source": [
        "#3-4\n",
        "ml_model = LinearRegression()\n",
        "ml_model.fit(X_train,Y_train)\n",
        "predict = ml_model.predict(X_test)\n",
        "result = pd.DataFrame({'actual':Y_test, 'predict':predict})\n",
        "result.head()"
      ]
    },
    {
      "cell_type": "code",
      "execution_count": null,
      "metadata": {
        "id": "jP2nls-5LxAS",
        "outputId": "520e2c53-9df2-4390-c688-bccbd2825eac"
      },
      "outputs": [
        {
          "data": {
            "text/plain": [
              "array([-0.17876953, -0.16843074, -2.74727497,  7.55635297, -0.02411889])"
            ]
          },
          "execution_count": 209,
          "metadata": {},
          "output_type": "execute_result"
        }
      ],
      "source": [
        "ml_model.coef_\n",
        "\n",
        "#slightly different from the previous model since the data is split into training and test data, and fitted only into training data.\n"
      ]
    },
    {
      "cell_type": "code",
      "execution_count": null,
      "metadata": {
        "id": "BAh9z6lBLxAS"
      },
      "outputs": [],
      "source": [
        "from sklearn.metrics import mean_squared_error\n",
        "from sklearn.metrics import r2_score\n",
        "\n",
        "mse = mean_squared_error(Y_test, predict)\n",
        "rmse = np.sqrt(mse)\n",
        "r2 = r2_score(Y_test, predict)"
      ]
    },
    {
      "cell_type": "code",
      "execution_count": null,
      "metadata": {
        "id": "f84cDkB_LxAS",
        "outputId": "94310a30-757c-45c8-ffce-c6b8e8be0cfa"
      },
      "outputs": [
        {
          "data": {
            "text/plain": [
              "39.79374300832402"
            ]
          },
          "execution_count": 211,
          "metadata": {},
          "output_type": "execute_result"
        }
      ],
      "source": [
        "mse"
      ]
    },
    {
      "cell_type": "code",
      "execution_count": null,
      "metadata": {
        "id": "aNR9J5h3LxAS",
        "outputId": "bb6ecbaa-4a80-44ef-db2d-863f70836d07"
      },
      "outputs": [
        {
          "name": "stdout",
          "output_type": "stream",
          "text": [
            "50.0\n",
            "6.3\n"
          ]
        }
      ],
      "source": [
        "print(Y_test.max())\n",
        "print(Y_test.min())\n",
        "\n",
        "#Considering the range of Y values, mse of 39 is comparatively high.\n",
        "#To improve the metrics, normalizing X values would be a great option.\n",
        "# The range of each X vars vary a lot. This is quite a problem because larger values are likely to affect the outcome Y compared to the small X vars."
      ]
    },
    {
      "cell_type": "code",
      "execution_count": null,
      "metadata": {
        "id": "lzj3Nd_ALxAT"
      },
      "outputs": [],
      "source": [
        "#3-5\n",
        "#In the statistical approach, the focus is on analyzing correlations through p-values and coefficients,\n",
        "# and interpreting and inferring the relationships between variables.\n",
        "# On the other hand, in the machine learning approach, the model must perform well on new, unseen data,\n",
        "# meaning that the extended line of the fitted model should fit well with this new data.\n",
        "# Therefore, the generalization performance of the model is more important.\n",
        "\n",
        "#Since the objectives of these two approaches are fundamentally different, it is appropriate to keep the statistical approach as it is,\n",
        "#  while in the case of the machine learning approach, splitting the dataset would be more suitable."
      ]
    },
    {
      "cell_type": "markdown",
      "metadata": {
        "id": "TrHgs2fwLxAT"
      },
      "source": [
        "Question4"
      ]
    },
    {
      "cell_type": "code",
      "execution_count": null,
      "metadata": {
        "id": "uyS0Fz9OLxAT"
      },
      "outputs": [],
      "source": [
        "#4-1\n",
        "covid_econ = pd.read_csv(os.path.join(data_path, 'covid_econ_data.csv'))"
      ]
    },
    {
      "cell_type": "code",
      "execution_count": null,
      "metadata": {
        "id": "0X_bfmEXLxAT",
        "outputId": "b8a7e919-4c59-4544-d21f-460dc4a339d5"
      },
      "outputs": [
        {
          "data": {
            "text/html": [
              "<div>\n",
              "<style scoped>\n",
              "    .dataframe tbody tr th:only-of-type {\n",
              "        vertical-align: middle;\n",
              "    }\n",
              "\n",
              "    .dataframe tbody tr th {\n",
              "        vertical-align: top;\n",
              "    }\n",
              "\n",
              "    .dataframe thead th {\n",
              "        text-align: right;\n",
              "    }\n",
              "</style>\n",
              "<table border=\"1\" class=\"dataframe\">\n",
              "  <thead>\n",
              "    <tr style=\"text-align: right;\">\n",
              "      <th></th>\n",
              "      <th>CODE</th>\n",
              "      <th>COUNTRY</th>\n",
              "      <th>DATE</th>\n",
              "      <th>HDI</th>\n",
              "      <th>TC</th>\n",
              "      <th>TD</th>\n",
              "      <th>STI</th>\n",
              "      <th>POP</th>\n",
              "      <th>GDPCAP</th>\n",
              "    </tr>\n",
              "  </thead>\n",
              "  <tbody>\n",
              "    <tr>\n",
              "      <th>0</th>\n",
              "      <td>AFG</td>\n",
              "      <td>Afghanistan</td>\n",
              "      <td>2019-12-31</td>\n",
              "      <td>0.498</td>\n",
              "      <td>0.0</td>\n",
              "      <td>0.0</td>\n",
              "      <td>0.0</td>\n",
              "      <td>17.477233</td>\n",
              "      <td>7.497754</td>\n",
              "    </tr>\n",
              "    <tr>\n",
              "      <th>1</th>\n",
              "      <td>AFG</td>\n",
              "      <td>Afghanistan</td>\n",
              "      <td>2020-01-01</td>\n",
              "      <td>0.498</td>\n",
              "      <td>0.0</td>\n",
              "      <td>0.0</td>\n",
              "      <td>0.0</td>\n",
              "      <td>17.477233</td>\n",
              "      <td>7.497754</td>\n",
              "    </tr>\n",
              "    <tr>\n",
              "      <th>2</th>\n",
              "      <td>AFG</td>\n",
              "      <td>Afghanistan</td>\n",
              "      <td>2020-01-02</td>\n",
              "      <td>0.498</td>\n",
              "      <td>0.0</td>\n",
              "      <td>0.0</td>\n",
              "      <td>0.0</td>\n",
              "      <td>17.477233</td>\n",
              "      <td>7.497754</td>\n",
              "    </tr>\n",
              "    <tr>\n",
              "      <th>3</th>\n",
              "      <td>AFG</td>\n",
              "      <td>Afghanistan</td>\n",
              "      <td>2020-01-03</td>\n",
              "      <td>0.498</td>\n",
              "      <td>0.0</td>\n",
              "      <td>0.0</td>\n",
              "      <td>0.0</td>\n",
              "      <td>17.477233</td>\n",
              "      <td>7.497754</td>\n",
              "    </tr>\n",
              "    <tr>\n",
              "      <th>4</th>\n",
              "      <td>AFG</td>\n",
              "      <td>Afghanistan</td>\n",
              "      <td>2020-01-04</td>\n",
              "      <td>0.498</td>\n",
              "      <td>0.0</td>\n",
              "      <td>0.0</td>\n",
              "      <td>0.0</td>\n",
              "      <td>17.477233</td>\n",
              "      <td>7.497754</td>\n",
              "    </tr>\n",
              "  </tbody>\n",
              "</table>\n",
              "</div>"
            ],
            "text/plain": [
              "  CODE      COUNTRY        DATE    HDI   TC   TD  STI        POP    GDPCAP\n",
              "0  AFG  Afghanistan  2019-12-31  0.498  0.0  0.0  0.0  17.477233  7.497754\n",
              "1  AFG  Afghanistan  2020-01-01  0.498  0.0  0.0  0.0  17.477233  7.497754\n",
              "2  AFG  Afghanistan  2020-01-02  0.498  0.0  0.0  0.0  17.477233  7.497754\n",
              "3  AFG  Afghanistan  2020-01-03  0.498  0.0  0.0  0.0  17.477233  7.497754\n",
              "4  AFG  Afghanistan  2020-01-04  0.498  0.0  0.0  0.0  17.477233  7.497754"
            ]
          },
          "execution_count": 215,
          "metadata": {},
          "output_type": "execute_result"
        }
      ],
      "source": [
        "covid_econ.head()"
      ]
    },
    {
      "cell_type": "code",
      "execution_count": null,
      "metadata": {
        "id": "hIN7MCrrLxAT"
      },
      "outputs": [],
      "source": [
        "#4-2\n",
        "#to make same column as the df given in assignment, we set covid_econ_sum's first column as CODE.\n",
        "covid_econ_sum = covid_econ['CODE'].to_frame()"
      ]
    },
    {
      "cell_type": "code",
      "execution_count": null,
      "metadata": {
        "id": "loCPd84ALxAT"
      },
      "outputs": [],
      "source": [
        "#to create covid_econ[month] and covid_econ[date], we can simply use .dt attribute.\n",
        "#to apply this we first need to covert the data type of DATE into datetime.\n",
        "covid_econ['DATE'] = pd.to_datetime(covid_econ['DATE'])\n",
        "covid_econ_sum['month'] = covid_econ['DATE'].dt.month\n",
        "covid_econ_sum['year'] =covid_econ['DATE'].dt.year"
      ]
    },
    {
      "cell_type": "code",
      "execution_count": null,
      "metadata": {
        "id": "VT2x1ngHLxAT"
      },
      "outputs": [],
      "source": [
        "#combine rest of the columns in covid_econ\n",
        "covid_econ_sum = pd.concat([covid_econ_sum, covid_econ.iloc[:, 3:]], axis = 1)"
      ]
    },
    {
      "cell_type": "code",
      "execution_count": null,
      "metadata": {
        "id": "u-JxWfDILxAT",
        "outputId": "117bfb87-5113-4a70-f272-ad418ed4e70f"
      },
      "outputs": [
        {
          "data": {
            "text/html": [
              "<div>\n",
              "<style scoped>\n",
              "    .dataframe tbody tr th:only-of-type {\n",
              "        vertical-align: middle;\n",
              "    }\n",
              "\n",
              "    .dataframe tbody tr th {\n",
              "        vertical-align: top;\n",
              "    }\n",
              "\n",
              "    .dataframe thead th {\n",
              "        text-align: right;\n",
              "    }\n",
              "</style>\n",
              "<table border=\"1\" class=\"dataframe\">\n",
              "  <thead>\n",
              "    <tr style=\"text-align: right;\">\n",
              "      <th></th>\n",
              "      <th>CODE</th>\n",
              "      <th>month</th>\n",
              "      <th>year</th>\n",
              "      <th>HDI</th>\n",
              "      <th>TC</th>\n",
              "      <th>TD</th>\n",
              "      <th>STI</th>\n",
              "      <th>POP</th>\n",
              "      <th>GDPCAP</th>\n",
              "    </tr>\n",
              "  </thead>\n",
              "  <tbody>\n",
              "    <tr>\n",
              "      <th>0</th>\n",
              "      <td>ABW</td>\n",
              "      <td>3</td>\n",
              "      <td>2020</td>\n",
              "      <td>NaN</td>\n",
              "      <td>1.732188</td>\n",
              "      <td>0.000000</td>\n",
              "      <td>3.621478</td>\n",
              "      <td>11.578395</td>\n",
              "      <td>10.490546</td>\n",
              "    </tr>\n",
              "    <tr>\n",
              "      <th>1</th>\n",
              "      <td>ABW</td>\n",
              "      <td>4</td>\n",
              "      <td>2020</td>\n",
              "      <td>NaN</td>\n",
              "      <td>4.439778</td>\n",
              "      <td>0.300364</td>\n",
              "      <td>4.449136</td>\n",
              "      <td>11.578395</td>\n",
              "      <td>10.490546</td>\n",
              "    </tr>\n",
              "    <tr>\n",
              "      <th>2</th>\n",
              "      <td>ABW</td>\n",
              "      <td>5</td>\n",
              "      <td>2020</td>\n",
              "      <td>NaN</td>\n",
              "      <td>4.613195</td>\n",
              "      <td>1.007056</td>\n",
              "      <td>4.152452</td>\n",
              "      <td>11.578395</td>\n",
              "      <td>10.490546</td>\n",
              "    </tr>\n",
              "    <tr>\n",
              "      <th>3</th>\n",
              "      <td>ABW</td>\n",
              "      <td>6</td>\n",
              "      <td>2020</td>\n",
              "      <td>NaN</td>\n",
              "      <td>4.615774</td>\n",
              "      <td>1.098612</td>\n",
              "      <td>3.533148</td>\n",
              "      <td>11.578395</td>\n",
              "      <td>10.490546</td>\n",
              "    </tr>\n",
              "    <tr>\n",
              "      <th>4</th>\n",
              "      <td>ABW</td>\n",
              "      <td>7</td>\n",
              "      <td>2020</td>\n",
              "      <td>NaN</td>\n",
              "      <td>4.699476</td>\n",
              "      <td>1.098612</td>\n",
              "      <td>3.478467</td>\n",
              "      <td>11.578395</td>\n",
              "      <td>10.490546</td>\n",
              "    </tr>\n",
              "    <tr>\n",
              "      <th>...</th>\n",
              "      <td>...</td>\n",
              "      <td>...</td>\n",
              "      <td>...</td>\n",
              "      <td>...</td>\n",
              "      <td>...</td>\n",
              "      <td>...</td>\n",
              "      <td>...</td>\n",
              "      <td>...</td>\n",
              "      <td>...</td>\n",
              "    </tr>\n",
              "    <tr>\n",
              "      <th>1865</th>\n",
              "      <td>ZWE</td>\n",
              "      <td>6</td>\n",
              "      <td>2020</td>\n",
              "      <td>0.535</td>\n",
              "      <td>5.908521</td>\n",
              "      <td>1.526588</td>\n",
              "      <td>4.283516</td>\n",
              "      <td>16.514381</td>\n",
              "      <td>7.549491</td>\n",
              "    </tr>\n",
              "    <tr>\n",
              "      <th>1866</th>\n",
              "      <td>ZWE</td>\n",
              "      <td>7</td>\n",
              "      <td>2020</td>\n",
              "      <td>0.535</td>\n",
              "      <td>7.153636</td>\n",
              "      <td>2.889739</td>\n",
              "      <td>4.337173</td>\n",
              "      <td>16.514381</td>\n",
              "      <td>7.549491</td>\n",
              "    </tr>\n",
              "    <tr>\n",
              "      <th>1867</th>\n",
              "      <td>ZWE</td>\n",
              "      <td>8</td>\n",
              "      <td>2020</td>\n",
              "      <td>0.535</td>\n",
              "      <td>8.534446</td>\n",
              "      <td>4.816268</td>\n",
              "      <td>4.389002</td>\n",
              "      <td>16.514381</td>\n",
              "      <td>7.549491</td>\n",
              "    </tr>\n",
              "    <tr>\n",
              "      <th>1868</th>\n",
              "      <td>ZWE</td>\n",
              "      <td>9</td>\n",
              "      <td>2020</td>\n",
              "      <td>0.535</td>\n",
              "      <td>8.909389</td>\n",
              "      <td>5.391751</td>\n",
              "      <td>4.362286</td>\n",
              "      <td>16.514381</td>\n",
              "      <td>7.549491</td>\n",
              "    </tr>\n",
              "    <tr>\n",
              "      <th>1869</th>\n",
              "      <td>ZWE</td>\n",
              "      <td>10</td>\n",
              "      <td>2020</td>\n",
              "      <td>0.535</td>\n",
              "      <td>8.984210</td>\n",
              "      <td>5.435546</td>\n",
              "      <td>4.341855</td>\n",
              "      <td>16.514381</td>\n",
              "      <td>7.549491</td>\n",
              "    </tr>\n",
              "  </tbody>\n",
              "</table>\n",
              "<p>1870 rows × 9 columns</p>\n",
              "</div>"
            ],
            "text/plain": [
              "     CODE  month  year    HDI        TC        TD       STI        POP  \\\n",
              "0     ABW      3  2020    NaN  1.732188  0.000000  3.621478  11.578395   \n",
              "1     ABW      4  2020    NaN  4.439778  0.300364  4.449136  11.578395   \n",
              "2     ABW      5  2020    NaN  4.613195  1.007056  4.152452  11.578395   \n",
              "3     ABW      6  2020    NaN  4.615774  1.098612  3.533148  11.578395   \n",
              "4     ABW      7  2020    NaN  4.699476  1.098612  3.478467  11.578395   \n",
              "...   ...    ...   ...    ...       ...       ...       ...        ...   \n",
              "1865  ZWE      6  2020  0.535  5.908521  1.526588  4.283516  16.514381   \n",
              "1866  ZWE      7  2020  0.535  7.153636  2.889739  4.337173  16.514381   \n",
              "1867  ZWE      8  2020  0.535  8.534446  4.816268  4.389002  16.514381   \n",
              "1868  ZWE      9  2020  0.535  8.909389  5.391751  4.362286  16.514381   \n",
              "1869  ZWE     10  2020  0.535  8.984210  5.435546  4.341855  16.514381   \n",
              "\n",
              "         GDPCAP  \n",
              "0     10.490546  \n",
              "1     10.490546  \n",
              "2     10.490546  \n",
              "3     10.490546  \n",
              "4     10.490546  \n",
              "...         ...  \n",
              "1865   7.549491  \n",
              "1866   7.549491  \n",
              "1867   7.549491  \n",
              "1868   7.549491  \n",
              "1869   7.549491  \n",
              "\n",
              "[1870 rows x 9 columns]"
            ]
          },
          "execution_count": 219,
          "metadata": {},
          "output_type": "execute_result"
        }
      ],
      "source": [
        "#since we need to take the mean according to code, month, and year, I simply grouped them accordingly, and took the mean out of them.\n",
        "covid_econ_sum = covid_econ_sum.groupby(['CODE', 'month', 'year']).mean().reset_index()\n",
        "covid_econ_sum"
      ]
    },
    {
      "cell_type": "code",
      "execution_count": null,
      "metadata": {
        "id": "9V3yuJw_LxAT",
        "outputId": "2ad35958-e181-438c-8946-bf0ee56a9f7a"
      },
      "outputs": [
        {
          "data": {
            "text/html": [
              "<div>\n",
              "<style scoped>\n",
              "    .dataframe tbody tr th:only-of-type {\n",
              "        vertical-align: middle;\n",
              "    }\n",
              "\n",
              "    .dataframe tbody tr th {\n",
              "        vertical-align: top;\n",
              "    }\n",
              "\n",
              "    .dataframe thead th {\n",
              "        text-align: right;\n",
              "    }\n",
              "</style>\n",
              "<table border=\"1\" class=\"dataframe\">\n",
              "  <thead>\n",
              "    <tr style=\"text-align: right;\">\n",
              "      <th></th>\n",
              "      <th>CODE</th>\n",
              "      <th>month</th>\n",
              "      <th>year</th>\n",
              "      <th>HDI</th>\n",
              "      <th>TC</th>\n",
              "      <th>TD</th>\n",
              "      <th>STI</th>\n",
              "      <th>POP</th>\n",
              "      <th>GDPCAP</th>\n",
              "      <th>yr.mon</th>\n",
              "    </tr>\n",
              "  </thead>\n",
              "  <tbody>\n",
              "    <tr>\n",
              "      <th>0</th>\n",
              "      <td>ABW</td>\n",
              "      <td>3</td>\n",
              "      <td>2020</td>\n",
              "      <td>NaN</td>\n",
              "      <td>1.732188</td>\n",
              "      <td>0.000000</td>\n",
              "      <td>3.621478</td>\n",
              "      <td>11.578395</td>\n",
              "      <td>10.490546</td>\n",
              "      <td>2020-3</td>\n",
              "    </tr>\n",
              "    <tr>\n",
              "      <th>1</th>\n",
              "      <td>ABW</td>\n",
              "      <td>4</td>\n",
              "      <td>2020</td>\n",
              "      <td>NaN</td>\n",
              "      <td>4.439778</td>\n",
              "      <td>0.300364</td>\n",
              "      <td>4.449136</td>\n",
              "      <td>11.578395</td>\n",
              "      <td>10.490546</td>\n",
              "      <td>2020-4</td>\n",
              "    </tr>\n",
              "    <tr>\n",
              "      <th>2</th>\n",
              "      <td>ABW</td>\n",
              "      <td>5</td>\n",
              "      <td>2020</td>\n",
              "      <td>NaN</td>\n",
              "      <td>4.613195</td>\n",
              "      <td>1.007056</td>\n",
              "      <td>4.152452</td>\n",
              "      <td>11.578395</td>\n",
              "      <td>10.490546</td>\n",
              "      <td>2020-5</td>\n",
              "    </tr>\n",
              "    <tr>\n",
              "      <th>3</th>\n",
              "      <td>ABW</td>\n",
              "      <td>6</td>\n",
              "      <td>2020</td>\n",
              "      <td>NaN</td>\n",
              "      <td>4.615774</td>\n",
              "      <td>1.098612</td>\n",
              "      <td>3.533148</td>\n",
              "      <td>11.578395</td>\n",
              "      <td>10.490546</td>\n",
              "      <td>2020-6</td>\n",
              "    </tr>\n",
              "    <tr>\n",
              "      <th>4</th>\n",
              "      <td>ABW</td>\n",
              "      <td>7</td>\n",
              "      <td>2020</td>\n",
              "      <td>NaN</td>\n",
              "      <td>4.699476</td>\n",
              "      <td>1.098612</td>\n",
              "      <td>3.478467</td>\n",
              "      <td>11.578395</td>\n",
              "      <td>10.490546</td>\n",
              "      <td>2020-7</td>\n",
              "    </tr>\n",
              "  </tbody>\n",
              "</table>\n",
              "</div>"
            ],
            "text/plain": [
              "  CODE  month  year  HDI        TC        TD       STI        POP     GDPCAP  \\\n",
              "0  ABW      3  2020  NaN  1.732188  0.000000  3.621478  11.578395  10.490546   \n",
              "1  ABW      4  2020  NaN  4.439778  0.300364  4.449136  11.578395  10.490546   \n",
              "2  ABW      5  2020  NaN  4.613195  1.007056  4.152452  11.578395  10.490546   \n",
              "3  ABW      6  2020  NaN  4.615774  1.098612  3.533148  11.578395  10.490546   \n",
              "4  ABW      7  2020  NaN  4.699476  1.098612  3.478467  11.578395  10.490546   \n",
              "\n",
              "   yr.mon  \n",
              "0  2020-3  \n",
              "1  2020-4  \n",
              "2  2020-5  \n",
              "3  2020-6  \n",
              "4  2020-7  "
            ]
          },
          "execution_count": 220,
          "metadata": {},
          "output_type": "execute_result"
        }
      ],
      "source": [
        "#4-3\n",
        "# to use + binary operator, the type of all operand must be the same.\n",
        "# Here, we use - in between year and month, which is str, so both year and month values in each column must be str type.\n",
        "covid_econ_sum['yr.mon'] = covid_econ_sum['year'].astype(str) + '-' + covid_econ_sum['month'].astype(str)\n",
        "covid_econ_sum.head()"
      ]
    },
    {
      "cell_type": "code",
      "execution_count": null,
      "metadata": {
        "id": "ZbT9ibOILxAT",
        "outputId": "27cae83a-82d8-4c93-9a2e-2d372b3f6952"
      },
      "outputs": [
        {
          "data": {
            "text/html": [
              "<div>\n",
              "<style scoped>\n",
              "    .dataframe tbody tr th:only-of-type {\n",
              "        vertical-align: middle;\n",
              "    }\n",
              "\n",
              "    .dataframe tbody tr th {\n",
              "        vertical-align: top;\n",
              "    }\n",
              "\n",
              "    .dataframe thead th {\n",
              "        text-align: right;\n",
              "    }\n",
              "</style>\n",
              "<table border=\"1\" class=\"dataframe\">\n",
              "  <thead>\n",
              "    <tr style=\"text-align: right;\">\n",
              "      <th></th>\n",
              "      <th>CODE</th>\n",
              "      <th>month</th>\n",
              "      <th>year</th>\n",
              "      <th>HDI</th>\n",
              "      <th>TC</th>\n",
              "      <th>TD</th>\n",
              "      <th>STI</th>\n",
              "      <th>POP</th>\n",
              "      <th>GDPCAP</th>\n",
              "      <th>yr.mon</th>\n",
              "    </tr>\n",
              "  </thead>\n",
              "  <tbody>\n",
              "    <tr>\n",
              "      <th>828</th>\n",
              "      <td>IRL</td>\n",
              "      <td>12</td>\n",
              "      <td>2019</td>\n",
              "      <td>0.938</td>\n",
              "      <td>0.000000</td>\n",
              "      <td>0.0</td>\n",
              "      <td>0.000000</td>\n",
              "      <td>15.412430</td>\n",
              "      <td>11.117440</td>\n",
              "      <td>2019-12</td>\n",
              "    </tr>\n",
              "    <tr>\n",
              "      <th>972</th>\n",
              "      <td>KOR</td>\n",
              "      <td>12</td>\n",
              "      <td>2019</td>\n",
              "      <td>0.903</td>\n",
              "      <td>0.000000</td>\n",
              "      <td>0.0</td>\n",
              "      <td>0.000000</td>\n",
              "      <td>17.752600</td>\n",
              "      <td>10.489561</td>\n",
              "      <td>2019-12</td>\n",
              "    </tr>\n",
              "    <tr>\n",
              "      <th>1778</th>\n",
              "      <td>USA</td>\n",
              "      <td>12</td>\n",
              "      <td>2019</td>\n",
              "      <td>0.924</td>\n",
              "      <td>0.000000</td>\n",
              "      <td>0.0</td>\n",
              "      <td>0.000000</td>\n",
              "      <td>19.617637</td>\n",
              "      <td>10.900906</td>\n",
              "      <td>2019-12</td>\n",
              "    </tr>\n",
              "    <tr>\n",
              "      <th>818</th>\n",
              "      <td>IRL</td>\n",
              "      <td>1</td>\n",
              "      <td>2020</td>\n",
              "      <td>0.938</td>\n",
              "      <td>0.000000</td>\n",
              "      <td>0.0</td>\n",
              "      <td>0.000000</td>\n",
              "      <td>15.412430</td>\n",
              "      <td>11.117440</td>\n",
              "      <td>2020-1</td>\n",
              "    </tr>\n",
              "    <tr>\n",
              "      <th>962</th>\n",
              "      <td>KOR</td>\n",
              "      <td>1</td>\n",
              "      <td>2020</td>\n",
              "      <td>0.903</td>\n",
              "      <td>0.321806</td>\n",
              "      <td>0.0</td>\n",
              "      <td>0.032982</td>\n",
              "      <td>17.752600</td>\n",
              "      <td>10.489561</td>\n",
              "      <td>2020-1</td>\n",
              "    </tr>\n",
              "  </tbody>\n",
              "</table>\n",
              "</div>"
            ],
            "text/plain": [
              "     CODE  month  year    HDI        TC   TD       STI        POP     GDPCAP  \\\n",
              "828   IRL     12  2019  0.938  0.000000  0.0  0.000000  15.412430  11.117440   \n",
              "972   KOR     12  2019  0.903  0.000000  0.0  0.000000  17.752600  10.489561   \n",
              "1778  USA     12  2019  0.924  0.000000  0.0  0.000000  19.617637  10.900906   \n",
              "818   IRL      1  2020  0.938  0.000000  0.0  0.000000  15.412430  11.117440   \n",
              "962   KOR      1  2020  0.903  0.321806  0.0  0.032982  17.752600  10.489561   \n",
              "\n",
              "       yr.mon  \n",
              "828   2019-12  \n",
              "972   2019-12  \n",
              "1778  2019-12  \n",
              "818    2020-1  \n",
              "962    2020-1  "
            ]
          },
          "execution_count": 222,
          "metadata": {},
          "output_type": "execute_result"
        }
      ],
      "source": [
        "#4-4\n",
        "#To check the relationship between TD and TC we can simply draw a plot of TC as X, TD as Y."
      ]
    },
    {
      "cell_type": "code",
      "execution_count": null,
      "metadata": {
        "id": "sF35hwPdLxAU",
        "outputId": "a357a0df-a124-40c0-c726-38fccdb5b450"
      },
      "outputs": [
        {
          "data": {
            "text/html": [
              "<div>\n",
              "<style scoped>\n",
              "    .dataframe tbody tr th:only-of-type {\n",
              "        vertical-align: middle;\n",
              "    }\n",
              "\n",
              "    .dataframe tbody tr th {\n",
              "        vertical-align: top;\n",
              "    }\n",
              "\n",
              "    .dataframe thead th {\n",
              "        text-align: right;\n",
              "    }\n",
              "</style>\n",
              "<table border=\"1\" class=\"dataframe\">\n",
              "  <thead>\n",
              "    <tr style=\"text-align: right;\">\n",
              "      <th></th>\n",
              "      <th>CODE</th>\n",
              "      <th>month</th>\n",
              "      <th>year</th>\n",
              "      <th>HDI</th>\n",
              "      <th>TC</th>\n",
              "      <th>TD</th>\n",
              "      <th>STI</th>\n",
              "      <th>POP</th>\n",
              "      <th>GDPCAP</th>\n",
              "      <th>yr.mon</th>\n",
              "    </tr>\n",
              "  </thead>\n",
              "  <tbody>\n",
              "    <tr>\n",
              "      <th>828</th>\n",
              "      <td>IRL</td>\n",
              "      <td>12</td>\n",
              "      <td>2019</td>\n",
              "      <td>0.938</td>\n",
              "      <td>0.000000</td>\n",
              "      <td>0.0</td>\n",
              "      <td>0.000000</td>\n",
              "      <td>15.412430</td>\n",
              "      <td>11.117440</td>\n",
              "      <td>2019-12-01</td>\n",
              "    </tr>\n",
              "    <tr>\n",
              "      <th>972</th>\n",
              "      <td>KOR</td>\n",
              "      <td>12</td>\n",
              "      <td>2019</td>\n",
              "      <td>0.903</td>\n",
              "      <td>0.000000</td>\n",
              "      <td>0.0</td>\n",
              "      <td>0.000000</td>\n",
              "      <td>17.752600</td>\n",
              "      <td>10.489561</td>\n",
              "      <td>2019-12-01</td>\n",
              "    </tr>\n",
              "    <tr>\n",
              "      <th>1778</th>\n",
              "      <td>USA</td>\n",
              "      <td>12</td>\n",
              "      <td>2019</td>\n",
              "      <td>0.924</td>\n",
              "      <td>0.000000</td>\n",
              "      <td>0.0</td>\n",
              "      <td>0.000000</td>\n",
              "      <td>19.617637</td>\n",
              "      <td>10.900906</td>\n",
              "      <td>2019-12-01</td>\n",
              "    </tr>\n",
              "    <tr>\n",
              "      <th>818</th>\n",
              "      <td>IRL</td>\n",
              "      <td>1</td>\n",
              "      <td>2020</td>\n",
              "      <td>0.938</td>\n",
              "      <td>0.000000</td>\n",
              "      <td>0.0</td>\n",
              "      <td>0.000000</td>\n",
              "      <td>15.412430</td>\n",
              "      <td>11.117440</td>\n",
              "      <td>2020-01-01</td>\n",
              "    </tr>\n",
              "    <tr>\n",
              "      <th>962</th>\n",
              "      <td>KOR</td>\n",
              "      <td>1</td>\n",
              "      <td>2020</td>\n",
              "      <td>0.903</td>\n",
              "      <td>0.321806</td>\n",
              "      <td>0.0</td>\n",
              "      <td>0.032982</td>\n",
              "      <td>17.752600</td>\n",
              "      <td>10.489561</td>\n",
              "      <td>2020-01-01</td>\n",
              "    </tr>\n",
              "  </tbody>\n",
              "</table>\n",
              "</div>"
            ],
            "text/plain": [
              "     CODE  month  year    HDI        TC   TD       STI        POP     GDPCAP  \\\n",
              "828   IRL     12  2019  0.938  0.000000  0.0  0.000000  15.412430  11.117440   \n",
              "972   KOR     12  2019  0.903  0.000000  0.0  0.000000  17.752600  10.489561   \n",
              "1778  USA     12  2019  0.924  0.000000  0.0  0.000000  19.617637  10.900906   \n",
              "818   IRL      1  2020  0.938  0.000000  0.0  0.000000  15.412430  11.117440   \n",
              "962   KOR      1  2020  0.903  0.321806  0.0  0.032982  17.752600  10.489561   \n",
              "\n",
              "         yr.mon  \n",
              "828  2019-12-01  \n",
              "972  2019-12-01  \n",
              "1778 2019-12-01  \n",
              "818  2020-01-01  \n",
              "962  2020-01-01  "
            ]
          },
          "execution_count": 252,
          "metadata": {},
          "output_type": "execute_result"
        }
      ],
      "source": [
        "#Choose 'IRL', 'KOR', 'USA' to visualise.\n",
        "data_to_vis = covid_econ_sum[covid_econ_sum['CODE'].isin(['IRL', 'KOR', 'USA'])].sort_values(by=['year', 'month'])\n",
        "data_to_vis.head()"
      ]
    },
    {
      "cell_type": "code",
      "execution_count": null,
      "metadata": {
        "id": "7ivWMkh8LxAU",
        "outputId": "5191960e-fd5c-4e87-c5aa-dccbee1b8792"
      },
      "outputs": [
        {
          "data": {
            "text/plain": [
              "Text(0, 0.5, 'TC')"
            ]
          },
          "execution_count": 251,
          "metadata": {},
          "output_type": "execute_result"
        },
        {
          "data": {
            "image/png": "[encoded data removed]",
            "text/plain": [
              "<Figure size 640x480 with 1 Axes>"
            ]
          },
          "metadata": {},
          "output_type": "display_data"
        }
      ],
      "source": [
        "plt.scatter(x =data_to_vis.TD, y =data_to_vis.TC, )\n",
        "plt.xlabel('TD')\n",
        "plt.ylabel('TC')\n",
        "#to check the correlation of two variable, we need to plot a graph that has two variables as x, and y axis.\n",
        "#Since we need to check each x and y's distribution in the plot, scatterplot would be an appropriate option.\n",
        "#In this graph, we can observe that there are strong positive correlation between thsese two variables."
      ]
    },
    {
      "cell_type": "code",
      "execution_count": null,
      "metadata": {
        "id": "XCSZjkusLxAU",
        "outputId": "20c1b657-77db-4dd2-ebe1-c53f11a56bcc"
      },
      "outputs": [
        {
          "data": {
            "image/png": "[encoded data removed]",
            "text/plain": [
              "<Figure size 640x480 with 1 Axes>"
            ]
          },
          "metadata": {},
          "output_type": "display_data"
        }
      ],
      "source": [
        "#4-5\n",
        "#since the data has time columns, we can analyse the data with longitudinal approach.\n",
        "#to plot linegraph with time as x axis, we first need to change yr.mon's datatype as datetime.\n",
        "#lineplot would be a good option to compare how the output differs per timestep, since it is easy to check the change in trend and compare.\n",
        "data_to_vis['yr.mon'] = pd.to_datetime(data_to_vis['yr.mon'], format='%Y-%m')\n",
        "kor = data_to_vis[data_to_vis['CODE']== 'KOR']\n",
        "lrl = data_to_vis[data_to_vis['CODE'] == 'IRL']\n",
        "usa = data_to_vis[data_to_vis['CODE'] == 'USA']\n",
        "\n",
        "plt.xticks(rotation =45)\n",
        "plt.plot(usa['yr.mon'], usa['TC'], label ='USA')\n",
        "plt.plot(lrl['yr.mon'], lrl['TC'], label = 'IRL')\n",
        "plt.plot(kor['yr.mon'], kor['TC'], label = 'KOR')\n",
        "plt.legend()\n",
        "plt.show()\n"
      ]
    },
    {
      "cell_type": "code",
      "execution_count": null,
      "metadata": {
        "id": "krRTh78iLxAU"
      },
      "outputs": [],
      "source": []
    }
  ],
  "metadata": {
    "kernelspec": {
      "display_name": "gpu_darts",
      "language": "python",
      "name": "python3"
    },
    "language_info": {
      "codemirror_mode": {
        "name": "ipython",
        "version": 3
      },
      "file_extension": ".py",
      "mimetype": "text/x-python",
      "name": "python",
      "nbconvert_exporter": "python",
      "pygments_lexer": "ipython3",
      "version": "3.8.18"
    },
    "colab": {
      "provenance": []
    }
  },
  "nbformat": 4,
  "nbformat_minor": 0
}